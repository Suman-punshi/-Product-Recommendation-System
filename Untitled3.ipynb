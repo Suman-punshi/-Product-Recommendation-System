{
 "cells": [
  {
   "cell_type": "code",
   "execution_count": 162,
   "id": "c0291752",
   "metadata": {},
   "outputs": [
    {
     "data": {
      "text/html": [
       "<div>\n",
       "<style scoped>\n",
       "    .dataframe tbody tr th:only-of-type {\n",
       "        vertical-align: middle;\n",
       "    }\n",
       "\n",
       "    .dataframe tbody tr th {\n",
       "        vertical-align: top;\n",
       "    }\n",
       "\n",
       "    .dataframe thead th {\n",
       "        text-align: right;\n",
       "    }\n",
       "</style>\n",
       "<table border=\"1\" class=\"dataframe\">\n",
       "  <thead>\n",
       "    <tr style=\"text-align: right;\">\n",
       "      <th></th>\n",
       "      <th>index</th>\n",
       "      <th>product</th>\n",
       "      <th>category</th>\n",
       "      <th>sub_category</th>\n",
       "      <th>brand</th>\n",
       "      <th>type</th>\n",
       "      <th>description</th>\n",
       "    </tr>\n",
       "  </thead>\n",
       "  <tbody>\n",
       "    <tr>\n",
       "      <th>0</th>\n",
       "      <td>1</td>\n",
       "      <td>Garlic Oil - Vegetarian Capsule 500 mg</td>\n",
       "      <td>Beauty &amp; Hygiene</td>\n",
       "      <td>Hair Care</td>\n",
       "      <td>Sri Sri Ayurveda</td>\n",
       "      <td>Hair Oil &amp; Serum</td>\n",
       "      <td>This Product contains Garlic Oil that is known...</td>\n",
       "    </tr>\n",
       "    <tr>\n",
       "      <th>1</th>\n",
       "      <td>2</td>\n",
       "      <td>Water Bottle - Orange</td>\n",
       "      <td>Kitchen, Garden &amp; Pets</td>\n",
       "      <td>Storage &amp; Accessories</td>\n",
       "      <td>Mastercook</td>\n",
       "      <td>Water &amp; Fridge Bottles</td>\n",
       "      <td>Each product is microwave safe (without lid), ...</td>\n",
       "    </tr>\n",
       "    <tr>\n",
       "      <th>2</th>\n",
       "      <td>3</td>\n",
       "      <td>Brass Angle Deep - Plain, No.2</td>\n",
       "      <td>Cleaning &amp; Household</td>\n",
       "      <td>Pooja Needs</td>\n",
       "      <td>Trm</td>\n",
       "      <td>Lamp &amp; Lamp Oil</td>\n",
       "      <td>A perfect gift for all occasions, be it your m...</td>\n",
       "    </tr>\n",
       "    <tr>\n",
       "      <th>3</th>\n",
       "      <td>4</td>\n",
       "      <td>Cereal Flip Lid Container/Storage Jar - Assort...</td>\n",
       "      <td>Cleaning &amp; Household</td>\n",
       "      <td>Bins &amp; Bathroom Ware</td>\n",
       "      <td>Nakoda</td>\n",
       "      <td>Laundry, Storage Baskets</td>\n",
       "      <td>Multipurpose container with an attractive desi...</td>\n",
       "    </tr>\n",
       "    <tr>\n",
       "      <th>4</th>\n",
       "      <td>5</td>\n",
       "      <td>Creme Soft Soap - For Hands &amp; Body</td>\n",
       "      <td>Beauty &amp; Hygiene</td>\n",
       "      <td>Bath &amp; Hand Wash</td>\n",
       "      <td>Nivea</td>\n",
       "      <td>Bathing Bars &amp; Soaps</td>\n",
       "      <td>Nivea Creme Soft Soap gives your skin the best...</td>\n",
       "    </tr>\n",
       "  </tbody>\n",
       "</table>\n",
       "</div>"
      ],
      "text/plain": [
       "   index                                            product  \\\n",
       "0      1             Garlic Oil - Vegetarian Capsule 500 mg   \n",
       "1      2                              Water Bottle - Orange   \n",
       "2      3                     Brass Angle Deep - Plain, No.2   \n",
       "3      4  Cereal Flip Lid Container/Storage Jar - Assort...   \n",
       "4      5                 Creme Soft Soap - For Hands & Body   \n",
       "\n",
       "                 category           sub_category              brand  \\\n",
       "0        Beauty & Hygiene              Hair Care  Sri Sri Ayurveda    \n",
       "1  Kitchen, Garden & Pets  Storage & Accessories         Mastercook   \n",
       "2    Cleaning & Household            Pooja Needs                Trm   \n",
       "3    Cleaning & Household   Bins & Bathroom Ware             Nakoda   \n",
       "4        Beauty & Hygiene       Bath & Hand Wash              Nivea   \n",
       "\n",
       "                       type                                        description  \n",
       "0          Hair Oil & Serum  This Product contains Garlic Oil that is known...  \n",
       "1    Water & Fridge Bottles  Each product is microwave safe (without lid), ...  \n",
       "2           Lamp & Lamp Oil  A perfect gift for all occasions, be it your m...  \n",
       "3  Laundry, Storage Baskets  Multipurpose container with an attractive desi...  \n",
       "4      Bathing Bars & Soaps  Nivea Creme Soft Soap gives your skin the best...  "
      ]
     },
     "execution_count": 162,
     "metadata": {},
     "output_type": "execute_result"
    }
   ],
   "source": [
    "import pandas as pd\n",
    "import numpy as np\n",
    "\n",
    "data = pd.read_csv(\"BigBasket Products.csv\")\n",
    "data = data[['index', 'product', 'category', 'sub_category', 'brand', 'type', 'description']]\n",
    "data.head()"
   ]
  },
  {
   "cell_type": "code",
   "execution_count": 153,
   "id": "4cd703c5",
   "metadata": {},
   "outputs": [
    {
     "data": {
      "text/plain": [
       "index             0\n",
       "product           1\n",
       "category          0\n",
       "sub_category      0\n",
       "brand             1\n",
       "type              0\n",
       "description     115\n",
       "dtype: int64"
      ]
     },
     "execution_count": 153,
     "metadata": {},
     "output_type": "execute_result"
    }
   ],
   "source": [
    "data.isnull().sum()"
   ]
  },
  {
   "cell_type": "code",
   "execution_count": 154,
   "id": "d50bbe48",
   "metadata": {},
   "outputs": [
    {
     "data": {
      "text/plain": [
       "(27555, 7)"
      ]
     },
     "execution_count": 154,
     "metadata": {},
     "output_type": "execute_result"
    }
   ],
   "source": [
    "data.shape"
   ]
  },
  {
   "cell_type": "code",
   "execution_count": 155,
   "id": "14bc894f",
   "metadata": {},
   "outputs": [
    {
     "data": {
      "text/plain": [
       "index             0\n",
       "product           1\n",
       "category          0\n",
       "sub_category      0\n",
       "brand             1\n",
       "type              0\n",
       "description     115\n",
       "dtype: int64"
      ]
     },
     "execution_count": 155,
     "metadata": {},
     "output_type": "execute_result"
    }
   ],
   "source": [
    "data.isnull().sum()"
   ]
  },
  {
   "cell_type": "code",
   "execution_count": 163,
   "id": "05aa9b00",
   "metadata": {},
   "outputs": [],
   "source": [
    "data = data.dropna()"
   ]
  },
  {
   "cell_type": "code",
   "execution_count": 164,
   "id": "4252897c",
   "metadata": {},
   "outputs": [
    {
     "data": {
      "text/plain": [
       "index           0\n",
       "product         0\n",
       "category        0\n",
       "sub_category    0\n",
       "brand           0\n",
       "type            0\n",
       "description     0\n",
       "dtype: int64"
      ]
     },
     "execution_count": 164,
     "metadata": {},
     "output_type": "execute_result"
    }
   ],
   "source": [
    "data.isnull().sum()"
   ]
  },
  {
   "cell_type": "code",
   "execution_count": 165,
   "id": "ab1f1a54",
   "metadata": {
    "scrolled": true
   },
   "outputs": [
    {
     "data": {
      "text/html": [
       "<div>\n",
       "<style scoped>\n",
       "    .dataframe tbody tr th:only-of-type {\n",
       "        vertical-align: middle;\n",
       "    }\n",
       "\n",
       "    .dataframe tbody tr th {\n",
       "        vertical-align: top;\n",
       "    }\n",
       "\n",
       "    .dataframe thead th {\n",
       "        text-align: right;\n",
       "    }\n",
       "</style>\n",
       "<table border=\"1\" class=\"dataframe\">\n",
       "  <thead>\n",
       "    <tr style=\"text-align: right;\">\n",
       "      <th></th>\n",
       "      <th>index</th>\n",
       "      <th>product</th>\n",
       "      <th>category</th>\n",
       "      <th>sub_category</th>\n",
       "      <th>brand</th>\n",
       "      <th>type</th>\n",
       "      <th>description</th>\n",
       "    </tr>\n",
       "  </thead>\n",
       "  <tbody>\n",
       "    <tr>\n",
       "      <th>0</th>\n",
       "      <td>1</td>\n",
       "      <td>Garlic Oil - Vegetarian Capsule 500 mg</td>\n",
       "      <td>[Beauty, , Hygiene]</td>\n",
       "      <td>[Hair, Care]</td>\n",
       "      <td>[SriSriAyurveda]</td>\n",
       "      <td>[Hair, Oil, , Serum]</td>\n",
       "      <td>[This, Product, contains, Garlic, Oil, that, i...</td>\n",
       "    </tr>\n",
       "    <tr>\n",
       "      <th>1</th>\n",
       "      <td>2</td>\n",
       "      <td>Water Bottle - Orange</td>\n",
       "      <td>[Kitchen,, Garden, , Pets]</td>\n",
       "      <td>[Storage, , Accessories]</td>\n",
       "      <td>[Mastercook]</td>\n",
       "      <td>[Water, , Fridge, Bottles]</td>\n",
       "      <td>[Each, product, is, microwave, safe, (without,...</td>\n",
       "    </tr>\n",
       "    <tr>\n",
       "      <th>2</th>\n",
       "      <td>3</td>\n",
       "      <td>Brass Angle Deep - Plain, No.2</td>\n",
       "      <td>[Cleaning, , Household]</td>\n",
       "      <td>[Pooja, Needs]</td>\n",
       "      <td>[Trm]</td>\n",
       "      <td>[Lamp, , Lamp, Oil]</td>\n",
       "      <td>[A, perfect, gift, for, all, occasions,, be, i...</td>\n",
       "    </tr>\n",
       "    <tr>\n",
       "      <th>3</th>\n",
       "      <td>4</td>\n",
       "      <td>Cereal Flip Lid Container/Storage Jar - Assort...</td>\n",
       "      <td>[Cleaning, , Household]</td>\n",
       "      <td>[Bins, , Bathroom, Ware]</td>\n",
       "      <td>[Nakoda]</td>\n",
       "      <td>[Laundry,, Storage, Baskets]</td>\n",
       "      <td>[Multipurpose, container, with, an, attractive...</td>\n",
       "    </tr>\n",
       "    <tr>\n",
       "      <th>4</th>\n",
       "      <td>5</td>\n",
       "      <td>Creme Soft Soap - For Hands &amp; Body</td>\n",
       "      <td>[Beauty, , Hygiene]</td>\n",
       "      <td>[Bath, , Hand, Wash]</td>\n",
       "      <td>[Nivea]</td>\n",
       "      <td>[Bathing, Bars, , Soaps]</td>\n",
       "      <td>[Nivea, Creme, Soft, Soap, gives, your, skin, ...</td>\n",
       "    </tr>\n",
       "  </tbody>\n",
       "</table>\n",
       "</div>"
      ],
      "text/plain": [
       "   index                                            product  \\\n",
       "0      1             Garlic Oil - Vegetarian Capsule 500 mg   \n",
       "1      2                              Water Bottle - Orange   \n",
       "2      3                     Brass Angle Deep - Plain, No.2   \n",
       "3      4  Cereal Flip Lid Container/Storage Jar - Assort...   \n",
       "4      5                 Creme Soft Soap - For Hands & Body   \n",
       "\n",
       "                     category              sub_category             brand  \\\n",
       "0         [Beauty, , Hygiene]              [Hair, Care]  [SriSriAyurveda]   \n",
       "1  [Kitchen,, Garden, , Pets]  [Storage, , Accessories]      [Mastercook]   \n",
       "2     [Cleaning, , Household]            [Pooja, Needs]             [Trm]   \n",
       "3     [Cleaning, , Household]  [Bins, , Bathroom, Ware]          [Nakoda]   \n",
       "4         [Beauty, , Hygiene]      [Bath, , Hand, Wash]           [Nivea]   \n",
       "\n",
       "                           type  \\\n",
       "0          [Hair, Oil, , Serum]   \n",
       "1    [Water, , Fridge, Bottles]   \n",
       "2           [Lamp, , Lamp, Oil]   \n",
       "3  [Laundry,, Storage, Baskets]   \n",
       "4      [Bathing, Bars, , Soaps]   \n",
       "\n",
       "                                         description  \n",
       "0  [This, Product, contains, Garlic, Oil, that, i...  \n",
       "1  [Each, product, is, microwave, safe, (without,...  \n",
       "2  [A, perfect, gift, for, all, occasions,, be, i...  \n",
       "3  [Multipurpose, container, with, an, attractive...  \n",
       "4  [Nivea, Creme, Soft, Soap, gives, your, skin, ...  "
      ]
     },
     "execution_count": 165,
     "metadata": {},
     "output_type": "execute_result"
    }
   ],
   "source": [
    "data['category'] = data['category'].apply(lambda x: x.split())\n",
    "data['category'] = data['category'].apply(lambda x: [i.replace(\"&\", \"\") for i in x])\n",
    "data['sub_category'] = data['sub_category'].apply(lambda x: x.split())\n",
    "data['sub_category'] = data['sub_category'].apply(lambda x: [i.replace(\"&\", \"\") for i in x])\n",
    "data['brand'] = data['brand'].apply(lambda x: \"\".join(x.split()))\n",
    "data['brand'] = data['brand'].apply(lambda x: x.split())\n",
    "data['type'] = data['type'].apply(lambda x: x.split())\n",
    "data['type'] = data['type'].apply(lambda x: [i.replace(\"&\", \"\") for i in x])\n",
    "data['description'] = data['description'].apply(lambda x: x.split())\n",
    "data['description'] = data['description'].apply(lambda x: [i.replace(\"&\", \"\") for i in x])\n",
    "data.head()"
   ]
  },
  {
   "cell_type": "code",
   "execution_count": 166,
   "id": "311712ab",
   "metadata": {},
   "outputs": [],
   "source": [
    "data['tags'] = data['category'] + data['sub_category'] + data['brand'] + data['type'] + data['description']\n",
    "data = data[['index', 'product', 'tags']]"
   ]
  },
  {
   "cell_type": "code",
   "execution_count": 66,
   "id": "6953666e",
   "metadata": {},
   "outputs": [
    {
     "data": {
      "text/html": [
       "<div>\n",
       "<style scoped>\n",
       "    .dataframe tbody tr th:only-of-type {\n",
       "        vertical-align: middle;\n",
       "    }\n",
       "\n",
       "    .dataframe tbody tr th {\n",
       "        vertical-align: top;\n",
       "    }\n",
       "\n",
       "    .dataframe thead th {\n",
       "        text-align: right;\n",
       "    }\n",
       "</style>\n",
       "<table border=\"1\" class=\"dataframe\">\n",
       "  <thead>\n",
       "    <tr style=\"text-align: right;\">\n",
       "      <th></th>\n",
       "      <th>index</th>\n",
       "      <th>product</th>\n",
       "      <th>tags</th>\n",
       "    </tr>\n",
       "  </thead>\n",
       "  <tbody>\n",
       "    <tr>\n",
       "      <th>0</th>\n",
       "      <td>1</td>\n",
       "      <td>Garlic Oil - Vegetarian Capsule 500 mg</td>\n",
       "      <td>[Beauty, , Hygiene, Hair, Care, SriSriAyurveda...</td>\n",
       "    </tr>\n",
       "    <tr>\n",
       "      <th>1</th>\n",
       "      <td>2</td>\n",
       "      <td>Water Bottle - Orange</td>\n",
       "      <td>[Kitchen,, Garden, , Pets, Storage, , Accessor...</td>\n",
       "    </tr>\n",
       "    <tr>\n",
       "      <th>2</th>\n",
       "      <td>3</td>\n",
       "      <td>Brass Angle Deep - Plain, No.2</td>\n",
       "      <td>[Cleaning, , Household, Pooja, Needs, Trm, Lam...</td>\n",
       "    </tr>\n",
       "    <tr>\n",
       "      <th>3</th>\n",
       "      <td>4</td>\n",
       "      <td>Cereal Flip Lid Container/Storage Jar - Assort...</td>\n",
       "      <td>[Cleaning, , Household, Bins, , Bathroom, Ware...</td>\n",
       "    </tr>\n",
       "    <tr>\n",
       "      <th>4</th>\n",
       "      <td>5</td>\n",
       "      <td>Creme Soft Soap - For Hands &amp; Body</td>\n",
       "      <td>[Beauty, , Hygiene, Bath, , Hand, Wash, Nivea,...</td>\n",
       "    </tr>\n",
       "  </tbody>\n",
       "</table>\n",
       "</div>"
      ],
      "text/plain": [
       "   index                                            product  \\\n",
       "0      1             Garlic Oil - Vegetarian Capsule 500 mg   \n",
       "1      2                              Water Bottle - Orange   \n",
       "2      3                     Brass Angle Deep - Plain, No.2   \n",
       "3      4  Cereal Flip Lid Container/Storage Jar - Assort...   \n",
       "4      5                 Creme Soft Soap - For Hands & Body   \n",
       "\n",
       "                                                tags  \n",
       "0  [Beauty, , Hygiene, Hair, Care, SriSriAyurveda...  \n",
       "1  [Kitchen,, Garden, , Pets, Storage, , Accessor...  \n",
       "2  [Cleaning, , Household, Pooja, Needs, Trm, Lam...  \n",
       "3  [Cleaning, , Household, Bins, , Bathroom, Ware...  \n",
       "4  [Beauty, , Hygiene, Bath, , Hand, Wash, Nivea,...  "
      ]
     },
     "execution_count": 66,
     "metadata": {},
     "output_type": "execute_result"
    }
   ],
   "source": [
    "data.head()"
   ]
  },
  {
   "cell_type": "code",
   "execution_count": 167,
   "id": "bb8e1e30",
   "metadata": {},
   "outputs": [],
   "source": [
    "data['tags'] = data['tags'].apply(lambda x: ' '.join(x))"
   ]
  },
  {
   "cell_type": "code",
   "execution_count": 168,
   "id": "5341e03d",
   "metadata": {},
   "outputs": [],
   "source": [
    "from sklearn. feature_extraction. text import CountVectorizer\n",
    "cv = CountVectorizer(max_features = 5000, stop_words = 'english')"
   ]
  },
  {
   "cell_type": "code",
   "execution_count": 169,
   "id": "5b95772c",
   "metadata": {},
   "outputs": [],
   "source": [
    "import nltk\n",
    "from nltk.stem.porter import PorterStemmer\n",
    "ps = PorterStemmer()"
   ]
  },
  {
   "cell_type": "code",
   "execution_count": 170,
   "id": "1105393f",
   "metadata": {
    "scrolled": true
   },
   "outputs": [],
   "source": [
    "def stem(text):\n",
    "    y = []\n",
    "    for i in text:\n",
    "        y.append(ps.stem(i))\n",
    "    return \"\".join(y)"
   ]
  },
  {
   "cell_type": "code",
   "execution_count": 171,
   "id": "b870e36a",
   "metadata": {},
   "outputs": [],
   "source": [
    "data['tags'] = data['tags'].apply(stem)"
   ]
  },
  {
   "cell_type": "code",
   "execution_count": 172,
   "id": "a4f60abc",
   "metadata": {},
   "outputs": [
    {
     "data": {
      "text/html": [
       "<div>\n",
       "<style scoped>\n",
       "    .dataframe tbody tr th:only-of-type {\n",
       "        vertical-align: middle;\n",
       "    }\n",
       "\n",
       "    .dataframe tbody tr th {\n",
       "        vertical-align: top;\n",
       "    }\n",
       "\n",
       "    .dataframe thead th {\n",
       "        text-align: right;\n",
       "    }\n",
       "</style>\n",
       "<table border=\"1\" class=\"dataframe\">\n",
       "  <thead>\n",
       "    <tr style=\"text-align: right;\">\n",
       "      <th></th>\n",
       "      <th>index</th>\n",
       "      <th>product</th>\n",
       "      <th>tags</th>\n",
       "    </tr>\n",
       "  </thead>\n",
       "  <tbody>\n",
       "    <tr>\n",
       "      <th>0</th>\n",
       "      <td>1</td>\n",
       "      <td>Garlic Oil - Vegetarian Capsule 500 mg</td>\n",
       "      <td>beauty  hygiene hair care srisriayurveda hair ...</td>\n",
       "    </tr>\n",
       "    <tr>\n",
       "      <th>1</th>\n",
       "      <td>2</td>\n",
       "      <td>Water Bottle - Orange</td>\n",
       "      <td>kitchen, garden  pets storage  accessories mas...</td>\n",
       "    </tr>\n",
       "    <tr>\n",
       "      <th>2</th>\n",
       "      <td>3</td>\n",
       "      <td>Brass Angle Deep - Plain, No.2</td>\n",
       "      <td>cleaning  household pooja needs trm lamp  lamp...</td>\n",
       "    </tr>\n",
       "    <tr>\n",
       "      <th>3</th>\n",
       "      <td>4</td>\n",
       "      <td>Cereal Flip Lid Container/Storage Jar - Assort...</td>\n",
       "      <td>cleaning  household bins  bathroom ware nakoda...</td>\n",
       "    </tr>\n",
       "    <tr>\n",
       "      <th>4</th>\n",
       "      <td>5</td>\n",
       "      <td>Creme Soft Soap - For Hands &amp; Body</td>\n",
       "      <td>beauty  hygiene bath  hand wash nivea bathing ...</td>\n",
       "    </tr>\n",
       "  </tbody>\n",
       "</table>\n",
       "</div>"
      ],
      "text/plain": [
       "   index                                            product  \\\n",
       "0      1             Garlic Oil - Vegetarian Capsule 500 mg   \n",
       "1      2                              Water Bottle - Orange   \n",
       "2      3                     Brass Angle Deep - Plain, No.2   \n",
       "3      4  Cereal Flip Lid Container/Storage Jar - Assort...   \n",
       "4      5                 Creme Soft Soap - For Hands & Body   \n",
       "\n",
       "                                                tags  \n",
       "0  beauty  hygiene hair care srisriayurveda hair ...  \n",
       "1  kitchen, garden  pets storage  accessories mas...  \n",
       "2  cleaning  household pooja needs trm lamp  lamp...  \n",
       "3  cleaning  household bins  bathroom ware nakoda...  \n",
       "4  beauty  hygiene bath  hand wash nivea bathing ...  "
      ]
     },
     "execution_count": 172,
     "metadata": {},
     "output_type": "execute_result"
    }
   ],
   "source": [
    "data.head()"
   ]
  },
  {
   "cell_type": "code",
   "execution_count": 173,
   "id": "6a1ced65",
   "metadata": {},
   "outputs": [],
   "source": [
    "sampled_data = data.sample(n=5000, random_state=42)"
   ]
  },
  {
   "cell_type": "code",
   "execution_count": 174,
   "id": "c8db8598",
   "metadata": {},
   "outputs": [],
   "source": [
    "vectors = cv.fit_transform(sampled_data['tags']).toarray()"
   ]
  },
  {
   "cell_type": "code",
   "execution_count": 175,
   "id": "3535fc15",
   "metadata": {},
   "outputs": [
    {
     "data": {
      "text/plain": [
       "array([[0, 0, 0, ..., 0, 0, 0],\n",
       "       [0, 0, 0, ..., 0, 0, 0],\n",
       "       [0, 0, 0, ..., 0, 0, 0],\n",
       "       ...,\n",
       "       [0, 0, 0, ..., 0, 0, 0],\n",
       "       [0, 0, 0, ..., 0, 0, 0],\n",
       "       [0, 0, 0, ..., 0, 0, 0]], dtype=int64)"
      ]
     },
     "execution_count": 175,
     "metadata": {},
     "output_type": "execute_result"
    }
   ],
   "source": [
    "vectors"
   ]
  },
  {
   "cell_type": "code",
   "execution_count": 176,
   "id": "0cea57eb",
   "metadata": {},
   "outputs": [
    {
     "data": {
      "text/plain": [
       "(5000, 5000)"
      ]
     },
     "execution_count": 176,
     "metadata": {},
     "output_type": "execute_result"
    }
   ],
   "source": [
    "vectors.shape"
   ]
  },
  {
   "cell_type": "code",
   "execution_count": 177,
   "id": "7dba30ba",
   "metadata": {},
   "outputs": [
    {
     "name": "stderr",
     "output_type": "stream",
     "text": [
      "C:\\python3.11\\Lib\\site-packages\\sklearn\\utils\\extmath.py:189: RuntimeWarning: invalid value encountered in matmul\n",
      "  ret = a @ b\n"
     ]
    }
   ],
   "source": [
    "from sklearn.metrics.pairwise import cosine_similarity\n",
    "if np.isnan(vectors).any() or np.isinf(vectors).any():\n",
    "    vectors = np.nan_to_num(vectors)\n",
    "similarity = cosine_similarity(vectors)"
   ]
  },
  {
   "cell_type": "code",
   "execution_count": 178,
   "id": "512694c0",
   "metadata": {},
   "outputs": [
    {
     "data": {
      "text/plain": [
       "array([[1.        , 0.        , 0.08035434, ..., 0.        , 0.        ,\n",
       "        0.0258977 ],\n",
       "       [0.        , 1.        , 0.04450921, ..., 0.06336457, 0.07162871,\n",
       "        0.01912672],\n",
       "       [0.08035434, 0.04450921, 1.        , ..., 0.04021549, 0.01022861,\n",
       "        0.02185042],\n",
       "       ...,\n",
       "       [0.        , 0.06336457, 0.04021549, ..., 1.        , 0.54363808,\n",
       "        0.01036896],\n",
       "       [0.        , 0.07162871, 0.01022861, ..., 0.54363808, 1.        ,\n",
       "        0.        ],\n",
       "       [0.0258977 , 0.01912672, 0.02185042, ..., 0.01036896, 0.        ,\n",
       "        1.        ]])"
      ]
     },
     "execution_count": 178,
     "metadata": {},
     "output_type": "execute_result"
    }
   ],
   "source": [
    "similarity"
   ]
  },
  {
   "cell_type": "code",
   "execution_count": 179,
   "id": "795c0cf6",
   "metadata": {},
   "outputs": [],
   "source": [
    "def recommend(Product):\n",
    "    p_index = data[data['product'] == Product].index[0]\n",
    "    distances = similarity[p_index]\n",
    "    p_list = sorted(list(enumerate(distances)), key=lambda x: x[1], reverse=True)[1:10]\n",
    "    for i in p_list:\n",
    "         print(data.iloc[i[0]]['product'])"
   ]
  },
  {
   "cell_type": "code",
   "execution_count": 180,
   "id": "276fbffb",
   "metadata": {
    "scrolled": true
   },
   "outputs": [
    {
     "name": "stdout",
     "output_type": "stream",
     "text": [
      "Cabbage - Red\n",
      "Deep Clean Sensitive Toothpaste\n",
      "Chai/Stainless Steel Mug - Sagittarius, Sunsign, Double Walled\n",
      "Air Freshener Spray Bottle - Hills of Munnar\n",
      "Ayurvedic Soap\n",
      "Power Plus Disinfectant Toilet Cleaner 1 L + Cistern Block - Flushmatic 100g\n",
      "Active Salt Toothpaste - Lemon\n",
      "Mouthwash - Cool Mint\n",
      "Pumpkin - Disco, Organically Grown\n"
     ]
    }
   ],
   "source": [
    "recommend('Water Bottle - Orange')"
   ]
  },
  {
   "cell_type": "code",
   "execution_count": 181,
   "id": "9a8333a0",
   "metadata": {},
   "outputs": [
    {
     "name": "stdout",
     "output_type": "stream",
     "text": [
      "Sour Cream & Onion\n",
      "Cibaca Toothpaste - Anticavity\n",
      "Original Soap\n",
      "Bathing Bar Soap - Germ Protection, Original\n",
      "Packaged Drinking Water\n",
      "Yummy Tummy Lunch Pack\n",
      "Sausage - Chicken Piri Piri\n",
      "Stainless Steel Lunch Box/Tiffin Set - Red BB 573 3\n",
      "Natura Low Calorie Sweetner\n"
     ]
    }
   ],
   "source": [
    "recommend('Garlic Oil - Vegetarian Capsule 500 mg')"
   ]
  },
  {
   "cell_type": "code",
   "execution_count": 182,
   "id": "ae3f7ce3",
   "metadata": {},
   "outputs": [
    {
     "name": "stdout",
     "output_type": "stream",
     "text": [
      "Cotton Cosmetic Balls\n",
      "Matic Stain Champion Front & Top Load\n",
      "Plastic Desk Dustbin - Assorted Colour, BB616\n",
      "Borosilicate Glass Square Food Container With Dark Blue Lid\n",
      "Roasted Almond Barks - Snacking Chocolate\n",
      "Silicon Gloves - Assorted Colour\n",
      "Organics Desi Ghee/Tuppa With Brahmi\n",
      "Compact Paddle Hair Brush\n",
      "Sambar Powder\n"
     ]
    }
   ],
   "source": [
    "recommend('Creme Soft Soap - For Hands & Body')"
   ]
  },
  {
   "cell_type": "code",
   "execution_count": 183,
   "id": "38b73430",
   "metadata": {},
   "outputs": [
    {
     "data": {
      "text/html": [
       "<div>\n",
       "<style scoped>\n",
       "    .dataframe tbody tr th:only-of-type {\n",
       "        vertical-align: middle;\n",
       "    }\n",
       "\n",
       "    .dataframe tbody tr th {\n",
       "        vertical-align: top;\n",
       "    }\n",
       "\n",
       "    .dataframe thead th {\n",
       "        text-align: right;\n",
       "    }\n",
       "</style>\n",
       "<table border=\"1\" class=\"dataframe\">\n",
       "  <thead>\n",
       "    <tr style=\"text-align: right;\">\n",
       "      <th></th>\n",
       "      <th>index</th>\n",
       "      <th>product</th>\n",
       "      <th>tags</th>\n",
       "    </tr>\n",
       "  </thead>\n",
       "  <tbody>\n",
       "    <tr>\n",
       "      <th>0</th>\n",
       "      <td>1</td>\n",
       "      <td>Garlic Oil - Vegetarian Capsule 500 mg</td>\n",
       "      <td>beauty  hygiene hair care srisriayurveda hair ...</td>\n",
       "    </tr>\n",
       "    <tr>\n",
       "      <th>1</th>\n",
       "      <td>2</td>\n",
       "      <td>Water Bottle - Orange</td>\n",
       "      <td>kitchen, garden  pets storage  accessories mas...</td>\n",
       "    </tr>\n",
       "    <tr>\n",
       "      <th>2</th>\n",
       "      <td>3</td>\n",
       "      <td>Brass Angle Deep - Plain, No.2</td>\n",
       "      <td>cleaning  household pooja needs trm lamp  lamp...</td>\n",
       "    </tr>\n",
       "    <tr>\n",
       "      <th>3</th>\n",
       "      <td>4</td>\n",
       "      <td>Cereal Flip Lid Container/Storage Jar - Assort...</td>\n",
       "      <td>cleaning  household bins  bathroom ware nakoda...</td>\n",
       "    </tr>\n",
       "    <tr>\n",
       "      <th>4</th>\n",
       "      <td>5</td>\n",
       "      <td>Creme Soft Soap - For Hands &amp; Body</td>\n",
       "      <td>beauty  hygiene bath  hand wash nivea bathing ...</td>\n",
       "    </tr>\n",
       "    <tr>\n",
       "      <th>5</th>\n",
       "      <td>6</td>\n",
       "      <td>Germ - Removal Multipurpose Wipes</td>\n",
       "      <td>cleaning  household all purpose cleaners natur...</td>\n",
       "    </tr>\n",
       "    <tr>\n",
       "      <th>6</th>\n",
       "      <td>7</td>\n",
       "      <td>Multani Mati</td>\n",
       "      <td>beauty  hygiene skin care satinance face care ...</td>\n",
       "    </tr>\n",
       "    <tr>\n",
       "      <th>7</th>\n",
       "      <td>8</td>\n",
       "      <td>Hand Sanitizer - 70% Alcohol Base</td>\n",
       "      <td>beauty  hygiene bath  hand wash bionova hand w...</td>\n",
       "    </tr>\n",
       "    <tr>\n",
       "      <th>8</th>\n",
       "      <td>9</td>\n",
       "      <td>Biotin &amp; Collagen Volumizing Hair Shampoo + Bi...</td>\n",
       "      <td>beauty  hygiene hair care stbotanica shampoo  ...</td>\n",
       "    </tr>\n",
       "    <tr>\n",
       "      <th>9</th>\n",
       "      <td>10</td>\n",
       "      <td>Scrub Pad - Anti- Bacterial, Regular</td>\n",
       "      <td>cleaning  household mops, brushes  scrubs scot...</td>\n",
       "    </tr>\n",
       "  </tbody>\n",
       "</table>\n",
       "</div>"
      ],
      "text/plain": [
       "   index                                            product  \\\n",
       "0      1             Garlic Oil - Vegetarian Capsule 500 mg   \n",
       "1      2                              Water Bottle - Orange   \n",
       "2      3                     Brass Angle Deep - Plain, No.2   \n",
       "3      4  Cereal Flip Lid Container/Storage Jar - Assort...   \n",
       "4      5                 Creme Soft Soap - For Hands & Body   \n",
       "5      6                  Germ - Removal Multipurpose Wipes   \n",
       "6      7                                       Multani Mati   \n",
       "7      8                  Hand Sanitizer - 70% Alcohol Base   \n",
       "8      9  Biotin & Collagen Volumizing Hair Shampoo + Bi...   \n",
       "9     10               Scrub Pad - Anti- Bacterial, Regular   \n",
       "\n",
       "                                                tags  \n",
       "0  beauty  hygiene hair care srisriayurveda hair ...  \n",
       "1  kitchen, garden  pets storage  accessories mas...  \n",
       "2  cleaning  household pooja needs trm lamp  lamp...  \n",
       "3  cleaning  household bins  bathroom ware nakoda...  \n",
       "4  beauty  hygiene bath  hand wash nivea bathing ...  \n",
       "5  cleaning  household all purpose cleaners natur...  \n",
       "6  beauty  hygiene skin care satinance face care ...  \n",
       "7  beauty  hygiene bath  hand wash bionova hand w...  \n",
       "8  beauty  hygiene hair care stbotanica shampoo  ...  \n",
       "9  cleaning  household mops, brushes  scrubs scot...  "
      ]
     },
     "execution_count": 183,
     "metadata": {},
     "output_type": "execute_result"
    }
   ],
   "source": [
    "data.head(10)"
   ]
  },
  {
   "cell_type": "code",
   "execution_count": 146,
   "id": "68c5fdec",
   "metadata": {},
   "outputs": [
    {
     "name": "stdout",
     "output_type": "stream",
     "text": [
      "Pure Maple Syrup - Product Of Canada, Grade A, Robust Taste\n",
      "Pasta - Whole Wheat Fusilli\n",
      "Organic - Peanut/Kadalekayi\n",
      "Cone - Rose & Camphor\n",
      "Plastic Beaute Strainer - Decorative, Assorted Colour 1 pc 17 cm\n",
      "Storage Plastic Container With Pink Lid\n",
      "Cookies - Butter\n",
      "Granola - Mixed Fruit\n",
      "Masala - Dhaba Dal\n"
     ]
    }
   ],
   "source": [
    "recommend('Hand Sanitizer - 70% Alcohol Base')"
   ]
  },
  {
   "cell_type": "code",
   "execution_count": 148,
   "id": "14e1e88d",
   "metadata": {},
   "outputs": [
    {
     "name": "stdout",
     "output_type": "stream",
     "text": [
      "Sunblock Lotion\n",
      "Pooja Essential\n",
      "EDT Spray - Sport Style For Men\n",
      "Microwave Safe Stainless Steel Bowl Set - Red\n",
      "Manglore Rice Papad\n",
      "Dazzle Opalware Dinner Set - Monarch\n",
      "Hexa Advanced Soap\n",
      "Mopking Cotton Refill\n",
      "Copper Bottle Jointless - Plain\n"
     ]
    }
   ],
   "source": [
    "recommend('Multani Mati')"
   ]
  },
  {
   "cell_type": "code",
   "execution_count": 184,
   "id": "2faf7bd2",
   "metadata": {},
   "outputs": [
    {
     "name": "stdout",
     "output_type": "stream",
     "text": [
      "Aluminium Induction Base Sauce Pan - Silver.\n",
      "Nougat & Caramel Filled Chocolates - Miniatures\n",
      "Activated Charcoal Hair Shampoo\n",
      "Ultra Night Sanitary Pads For Women - XXXL+, Koala Soft\n",
      "Pixel Printed Designer Bath Mug - Assorted Colour\n",
      "Organic - Urad Dal/Uddina Bele, Black (Split)\n",
      "Chocopie\n",
      "Bio Active Tan Removing Exfoliating Scrub\n",
      "Classic Peanut Butter - Creamy\n"
     ]
    }
   ],
   "source": [
    "recommend('Germ - Removal Multipurpose Wipes')"
   ]
  },
  {
   "cell_type": "code",
   "execution_count": 1,
   "id": "15c25e15",
   "metadata": {},
   "outputs": [
    {
     "data": {
      "text/plain": [
       "'C:\\\\Users\\\\suman.bscs22seecs'"
      ]
     },
     "execution_count": 1,
     "metadata": {},
     "output_type": "execute_result"
    }
   ],
   "source": [
    "pwd"
   ]
  },
  {
   "cell_type": "code",
   "execution_count": null,
   "id": "90a6eb36",
   "metadata": {},
   "outputs": [],
   "source": []
  }
 ],
 "metadata": {
  "kernelspec": {
   "display_name": "Python 3 (ipykernel)",
   "language": "python",
   "name": "python3"
  },
  "language_info": {
   "codemirror_mode": {
    "name": "ipython",
    "version": 3
   },
   "file_extension": ".py",
   "mimetype": "text/x-python",
   "name": "python",
   "nbconvert_exporter": "python",
   "pygments_lexer": "ipython3",
   "version": "3.11.0"
  }
 },
 "nbformat": 4,
 "nbformat_minor": 5
}
